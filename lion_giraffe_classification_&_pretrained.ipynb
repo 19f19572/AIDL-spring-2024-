{
  "nbformat": 4,
  "nbformat_minor": 0,
  "metadata": {
    "colab": {
      "provenance": []
    },
    "kernelspec": {
      "name": "python3",
      "display_name": "Python 3"
    },
    "language_info": {
      "name": "python"
    }
  },
  "cells": [
    {
      "cell_type": "code",
      "execution_count": 1,
      "metadata": {
        "id": "iCj71UMLdXKF",
        "colab": {
          "base_uri": "https://localhost:8080/"
        },
        "outputId": "2abc7970-0f88-4ad7-9f6f-b3cc0ec849ec"
      },
      "outputs": [
        {
          "output_type": "stream",
          "name": "stdout",
          "text": [
            "Mounted at /content/drive\n"
          ]
        }
      ],
      "source": [
        "#My dataset is available in googledrive; so I am accessing my drive from colab\n",
        "from google.colab import drive\n",
        "drive.mount('/content/drive', force_remount=True)"
      ]
    },
    {
      "cell_type": "code",
      "source": [
        "# here paths to the dataset\n",
        "train_dir = '/content/drive/MyDrive/train'\n",
        "test_dir = '/content/drive/MyDrive/test'"
      ],
      "metadata": {
        "id": "CkmkKk6b0LWa"
      },
      "execution_count": 2,
      "outputs": []
    },
    {
      "cell_type": "code",
      "source": [
        "#here we import the dataset from the paths in my case lion & girffe\n",
        "import os\n",
        "print(len(os.listdir('/content/drive/MyDrive/train/lion')))\n",
        "print(len(os.listdir('/content/drive/MyDrive/train/giraffe')))\n",
        "print(len(os.listdir('/content/drive/MyDrive/test/lion')))\n",
        "print(len(os.listdir('/content/drive/MyDrive/test/giraffe')))"
      ],
      "metadata": {
        "colab": {
          "base_uri": "https://localhost:8080/"
        },
        "id": "zFafZKSH0OKF",
        "outputId": "8677ad20-9ae6-482c-f079-15eb6cb147a9"
      },
      "execution_count": 3,
      "outputs": [
        {
          "output_type": "stream",
          "name": "stdout",
          "text": [
            "766\n",
            "608\n",
            "50\n",
            "50\n"
          ]
        }
      ]
    },
    {
      "cell_type": "code",
      "source": [
        "import tensorflow as tf\n",
        "from tensorflow.keras.preprocessing.image import ImageDataGenerator\n",
        "\n",
        "# Create ImageDataGenerator for training set\n",
        "train_datagen = ImageDataGenerator(\n",
        "    rescale=1./255,\n",
        "    validation_split=0.2 # Split 20% of the images for validation\n",
        ")\n",
        "\n",
        "# Load and prepare training data\n",
        "train_data = train_datagen.flow_from_directory(\n",
        "    train_dir,\n",
        "    target_size=(256,256),\n",
        "    batch_size=32,\n",
        "    class_mode='binary', # 'binary' for binary classification (lion vs. giraffe)\n",
        "    subset='training'    # Specify 'training' for the training set\n",
        ")\n",
        "\n",
        "# Create ImageDataGenerator for validation set\n",
        "validation_datagen = ImageDataGenerator(\n",
        "    rescale=1./255,\n",
        "    validation_split=0.2     # here we use the same split of training set which is 20%\n",
        ")\n",
        "\n",
        "# Load and prepare validation data\n",
        "validation_data = validation_datagen.flow_from_directory(\n",
        "    train_dir,\n",
        "    target_size=(256,256),\n",
        "    batch_size=32,\n",
        "    class_mode='binary',\n",
        "    subset='validation'   # Specify 'validation' for the validation set\n",
        ")"
      ],
      "metadata": {
        "colab": {
          "base_uri": "https://localhost:8080/"
        },
        "id": "JLJ62Hff0SZg",
        "outputId": "2d8dae1c-1681-4ebf-e8ac-6c489c4764d5"
      },
      "execution_count": 4,
      "outputs": [
        {
          "output_type": "stream",
          "name": "stdout",
          "text": [
            "Found 1100 images belonging to 3 classes.\n",
            "Found 274 images belonging to 3 classes.\n"
          ]
        }
      ]
    },
    {
      "cell_type": "code",
      "source": [
        "from tensorflow import keras\n",
        "from keras import Sequential\n",
        "from keras.layers import Dense,Conv2D,MaxPooling2D,Flatten\n",
        "\n",
        "resnet_model = Sequential()         # we used ResNet50 as the pre-trained model\n",
        "pretrained_model = tf.keras.applications.ResNet50(include_top = False,\n",
        "                                                input_shape = (256,256,3),\n",
        "                                                pooling = 'max', classes = 2,\n",
        "                                                weights = 'imagenet')\n",
        "for layer in pretrained_model.layers:\n",
        "    layer.trainable = False\n",
        "\n",
        "resnet_model.add(pretrained_model)\n",
        "resnet_model.add(Flatten())\n",
        "resnet_model.add(Dense(512, activation = 'relu'))\n",
        "resnet_model.add(Dense(1, activation = 'sigmoid'))"
      ],
      "metadata": {
        "colab": {
          "base_uri": "https://localhost:8080/"
        },
        "id": "L6PxPXJM0ZCp",
        "outputId": "59652b5d-5afa-4643-86aa-d6ba6e28dfeb"
      },
      "execution_count": 5,
      "outputs": [
        {
          "output_type": "stream",
          "name": "stdout",
          "text": [
            "Downloading data from https://storage.googleapis.com/tensorflow/keras-applications/resnet/resnet50_weights_tf_dim_ordering_tf_kernels_notop.h5\n",
            "94765736/94765736 [==============================] - 4s 0us/step\n"
          ]
        }
      ]
    },
    {
      "cell_type": "code",
      "source": [
        "resnet_model.summary()"
      ],
      "metadata": {
        "colab": {
          "base_uri": "https://localhost:8080/"
        },
        "id": "_wV0OBT40dvQ",
        "outputId": "3a7a3e77-7866-49ee-abc3-1c16d38decd5"
      },
      "execution_count": 6,
      "outputs": [
        {
          "output_type": "stream",
          "name": "stdout",
          "text": [
            "Model: \"sequential\"\n",
            "_________________________________________________________________\n",
            " Layer (type)                Output Shape              Param #   \n",
            "=================================================================\n",
            " resnet50 (Functional)       (None, 2048)              23587712  \n",
            "                                                                 \n",
            " flatten (Flatten)           (None, 2048)              0         \n",
            "                                                                 \n",
            " dense (Dense)               (None, 512)               1049088   \n",
            "                                                                 \n",
            " dense_1 (Dense)             (None, 1)                 513       \n",
            "                                                                 \n",
            "=================================================================\n",
            "Total params: 24637313 (93.98 MB)\n",
            "Trainable params: 1049601 (4.00 MB)\n",
            "Non-trainable params: 23587712 (89.98 MB)\n",
            "_________________________________________________________________\n"
          ]
        }
      ]
    },
    {
      "cell_type": "code",
      "source": [
        "from keras.optimizers import Adam\n",
        "resnet_model.compile(optimizer=Adam(learning_rate=0.001),loss='binary_crossentropy',metrics=['accuracy'])"
      ],
      "metadata": {
        "id": "7czqztLG0g8f"
      },
      "execution_count": 7,
      "outputs": []
    },
    {
      "cell_type": "code",
      "source": [
        "history = resnet_model.fit(train_data, epochs=3, validation_data=validation_data)"
      ],
      "metadata": {
        "colab": {
          "base_uri": "https://localhost:8080/"
        },
        "id": "eyDizeUe0lio",
        "outputId": "2b22cfc9-c07e-4495-dc94-b3f1fd97cdf2"
      },
      "execution_count": 8,
      "outputs": [
        {
          "output_type": "stream",
          "name": "stdout",
          "text": [
            "Epoch 1/3\n",
            "35/35 [==============================] - 521s 15s/step - loss: -194.2915 - accuracy: 0.4282 - val_loss: -483.0777 - val_accuracy: 0.4416\n",
            "Epoch 2/3\n",
            "35/35 [==============================] - 356s 10s/step - loss: -966.0742 - accuracy: 0.4427 - val_loss: -1650.4395 - val_accuracy: 0.4416\n",
            "Epoch 3/3\n",
            "35/35 [==============================] - 364s 10s/step - loss: -2557.1409 - accuracy: 0.4427 - val_loss: -3695.2322 - val_accuracy: 0.4416\n"
          ]
        }
      ]
    },
    {
      "cell_type": "code",
      "source": [
        "import matplotlib.pyplot as plt\n",
        "\n",
        "plt.plot(history.history['accuracy'],color='red',label='train')\n",
        "plt.plot(history.history['val_accuracy'],color='blue',label='validation')\n",
        "plt.legend()\n",
        "plt.show()"
      ],
      "metadata": {
        "colab": {
          "base_uri": "https://localhost:8080/",
          "height": 430
        },
        "id": "gQGDzfkr5gy8",
        "outputId": "8d28a88e-504a-4229-ef99-b229fec57cf2"
      },
      "execution_count": 9,
      "outputs": [
        {
          "output_type": "display_data",
          "data": {
            "text/plain": [
              "<Figure size 640x480 with 1 Axes>"
            ],
            "image/png": "[encoded data removed]"
          },
          "metadata": {}
        }
      ]
    },
    {
      "cell_type": "code",
      "source": [
        "plt.plot(history.history['loss'],color='red',label='train')\n",
        "plt.plot(history.history['val_loss'],color='blue',label='validation')\n",
        "plt.legend()\n",
        "plt.show()"
      ],
      "metadata": {
        "colab": {
          "base_uri": "https://localhost:8080/",
          "height": 430
        },
        "id": "a-NFZHeo5klD",
        "outputId": "f96cf3f8-7b4d-4269-bca4-b1ba9f5d5bb6"
      },
      "execution_count": 10,
      "outputs": [
        {
          "output_type": "display_data",
          "data": {
            "text/plain": [
              "<Figure size 640x480 with 1 Axes>"
            ],
            "image/png": "[encoded data removed]"
          },
          "metadata": {}
        }
      ]
    },
    {
      "cell_type": "code",
      "source": [
        "test_datagen = ImageDataGenerator(rescale=1./255)\n",
        "test_data = test_datagen.flow_from_directory(\n",
        "    test_dir,\n",
        "    target_size=(256,256),\n",
        "    batch_size=32,\n",
        "    class_mode='binary'\n",
        ")"
      ],
      "metadata": {
        "colab": {
          "base_uri": "https://localhost:8080/"
        },
        "id": "YG4gfIRO5n5u",
        "outputId": "640e53db-8dcd-4f30-d0a6-80db737f2594"
      },
      "execution_count": 11,
      "outputs": [
        {
          "output_type": "stream",
          "name": "stdout",
          "text": [
            "Found 100 images belonging to 3 classes.\n"
          ]
        }
      ]
    },
    {
      "cell_type": "code",
      "source": [
        "#predict the test data\n",
        "predictions = resnet_model.predict(test_data)\n",
        "print(predictions)"
      ],
      "metadata": {
        "colab": {
          "base_uri": "https://localhost:8080/"
        },
        "id": "VR0MdiO85qkv",
        "outputId": "f5bf032c-0248-4725-c1fe-d6c24b886318"
      },
      "execution_count": 12,
      "outputs": [
        {
          "output_type": "stream",
          "name": "stdout",
          "text": [
            "4/4 [==============================] - 53s 15s/step\n",
            "[[1.]\n",
            " [1.]\n",
            " [1.]\n",
            " [1.]\n",
            " [1.]\n",
            " [1.]\n",
            " [1.]\n",
            " [1.]\n",
            " [1.]\n",
            " [1.]\n",
            " [1.]\n",
            " [1.]\n",
            " [1.]\n",
            " [1.]\n",
            " [1.]\n",
            " [1.]\n",
            " [1.]\n",
            " [1.]\n",
            " [1.]\n",
            " [1.]\n",
            " [1.]\n",
            " [1.]\n",
            " [1.]\n",
            " [1.]\n",
            " [1.]\n",
            " [1.]\n",
            " [1.]\n",
            " [1.]\n",
            " [1.]\n",
            " [1.]\n",
            " [1.]\n",
            " [1.]\n",
            " [1.]\n",
            " [1.]\n",
            " [1.]\n",
            " [1.]\n",
            " [1.]\n",
            " [1.]\n",
            " [1.]\n",
            " [1.]\n",
            " [1.]\n",
            " [1.]\n",
            " [1.]\n",
            " [1.]\n",
            " [1.]\n",
            " [1.]\n",
            " [1.]\n",
            " [1.]\n",
            " [1.]\n",
            " [1.]\n",
            " [1.]\n",
            " [1.]\n",
            " [1.]\n",
            " [1.]\n",
            " [1.]\n",
            " [1.]\n",
            " [1.]\n",
            " [1.]\n",
            " [1.]\n",
            " [1.]\n",
            " [1.]\n",
            " [1.]\n",
            " [1.]\n",
            " [1.]\n",
            " [1.]\n",
            " [1.]\n",
            " [1.]\n",
            " [1.]\n",
            " [1.]\n",
            " [1.]\n",
            " [1.]\n",
            " [1.]\n",
            " [1.]\n",
            " [1.]\n",
            " [1.]\n",
            " [1.]\n",
            " [1.]\n",
            " [1.]\n",
            " [1.]\n",
            " [1.]\n",
            " [1.]\n",
            " [1.]\n",
            " [1.]\n",
            " [1.]\n",
            " [1.]\n",
            " [1.]\n",
            " [1.]\n",
            " [1.]\n",
            " [1.]\n",
            " [1.]\n",
            " [1.]\n",
            " [1.]\n",
            " [1.]\n",
            " [1.]\n",
            " [1.]\n",
            " [1.]\n",
            " [1.]\n",
            " [1.]\n",
            " [1.]\n",
            " [1.]]\n"
          ]
        }
      ]
    },
    {
      "cell_type": "code",
      "source": [
        "len(predictions)"
      ],
      "metadata": {
        "colab": {
          "base_uri": "https://localhost:8080/"
        },
        "id": "coUJ69Br6KVx",
        "outputId": "598c1e09-ae7f-4bac-ae5f-1a519dab3fb5"
      },
      "execution_count": 13,
      "outputs": [
        {
          "output_type": "execute_result",
          "data": {
            "text/plain": [
              "100"
            ]
          },
          "metadata": {},
          "execution_count": 13
        }
      ]
    },
    {
      "cell_type": "code",
      "source": [
        "from sklearn.metrics import confusion_matrix, classification_report\n",
        "\n",
        "\n",
        "true_labels = test_data.classes\n",
        "predicted_labels = (predictions > 0.5).astype(int)  # here we adjust the threshold as needed\n",
        "\n",
        "# Calculate confusion matrix\n",
        "cm = confusion_matrix(true_labels, predicted_labels)\n",
        "\n",
        "# Print confusion matrix\n",
        "print(\"Confusion Matrix:\")\n",
        "print(cm)\n",
        "\n",
        "# Print classification report\n",
        "print(\"Classification Report:\")\n",
        "print(classification_report(true_labels, predicted_labels))"
      ],
      "metadata": {
        "colab": {
          "base_uri": "https://localhost:8080/"
        },
        "id": "deVdqcBD6Mr_",
        "outputId": "796ad72d-120f-4d29-d41d-1992ae4248d6"
      },
      "execution_count": 14,
      "outputs": [
        {
          "output_type": "stream",
          "name": "stdout",
          "text": [
            "Confusion Matrix:\n",
            "[[50  0]\n",
            " [50  0]]\n",
            "Classification Report:\n",
            "              precision    recall  f1-score   support\n",
            "\n",
            "           1       0.50      1.00      0.67        50\n",
            "           2       0.00      0.00      0.00        50\n",
            "\n",
            "    accuracy                           0.50       100\n",
            "   macro avg       0.25      0.50      0.33       100\n",
            "weighted avg       0.25      0.50      0.33       100\n",
            "\n"
          ]
        },
        {
          "output_type": "stream",
          "name": "stderr",
          "text": [
            "/usr/local/lib/python3.10/dist-packages/sklearn/metrics/_classification.py:1344: UndefinedMetricWarning: Precision and F-score are ill-defined and being set to 0.0 in labels with no predicted samples. Use `zero_division` parameter to control this behavior.\n",
            "  _warn_prf(average, modifier, msg_start, len(result))\n",
            "/usr/local/lib/python3.10/dist-packages/sklearn/metrics/_classification.py:1344: UndefinedMetricWarning: Precision and F-score are ill-defined and being set to 0.0 in labels with no predicted samples. Use `zero_division` parameter to control this behavior.\n",
            "  _warn_prf(average, modifier, msg_start, len(result))\n",
            "/usr/local/lib/python3.10/dist-packages/sklearn/metrics/_classification.py:1344: UndefinedMetricWarning: Precision and F-score are ill-defined and being set to 0.0 in labels with no predicted samples. Use `zero_division` parameter to control this behavior.\n",
            "  _warn_prf(average, modifier, msg_start, len(result))\n"
          ]
        }
      ]
    },
    {
      "cell_type": "code",
      "execution_count": 15,
      "metadata": {
        "colab": {
          "base_uri": "https://localhost:8080/"
        },
        "id": "XwS3JKt-U1CE",
        "outputId": "ade40dcd-300f-42dd-93db-17ff8b2d1a86"
      },
      "outputs": [
        {
          "output_type": "stream",
          "name": "stdout",
          "text": [
            "Mounted at /content/drive\n"
          ]
        }
      ],
      "source": [
        "#My dataset is available in googledrive; so I am accessing my drive from colab\n",
        "from google.colab import drive\n",
        "drive.mount('/content/drive', force_remount=True)\n"
      ]
    },
    {
      "cell_type": "code",
      "source": [
        "# here paths to the dataset\n",
        "train_dir = '/content/drive/MyDrive/train'\n",
        "test_dir = '/content/drive/MyDrive/test'"
      ],
      "metadata": {
        "id": "1Vhwgsd511I_"
      },
      "execution_count": 16,
      "outputs": []
    },
    {
      "cell_type": "code",
      "source": [
        "#here we import the dataset from the paths in my case lion & girffe\n",
        "import os\n",
        "print(len(os.listdir('/content/drive/MyDrive/train/lion')))\n",
        "print(len(os.listdir('/content/drive/MyDrive/train/giraffe')))\n",
        "print(len(os.listdir('/content/drive/MyDrive/test/lion')))\n",
        "print(len(os.listdir('/content/drive/MyDrive/test/giraffe')))"
      ],
      "metadata": {
        "colab": {
          "base_uri": "https://localhost:8080/"
        },
        "id": "CXy8Jfn217WX",
        "outputId": "deba70c5-9627-45d0-e7f2-888a80bfb757"
      },
      "execution_count": 17,
      "outputs": [
        {
          "output_type": "stream",
          "name": "stdout",
          "text": [
            "766\n",
            "608\n",
            "50\n",
            "50\n"
          ]
        }
      ]
    },
    {
      "cell_type": "code",
      "source": [
        "import tensorflow as tf\n",
        "from tensorflow.keras.preprocessing.image import ImageDataGenerator\n",
        "\n",
        "# Create ImageDataGenerator for training set\n",
        "train_datagen = ImageDataGenerator(\n",
        "    rescale=1./255,\n",
        "    validation_split=0.2 # Split 20% of the images for validation\n",
        ")\n",
        "\n",
        "# Load and prepare training data\n",
        "train_data = train_datagen.flow_from_directory(\n",
        "    train_dir,\n",
        "    target_size=(256,256),\n",
        "    batch_size=32,\n",
        "    class_mode='binary', # 'binary' for binary classification (lion vs. giraffe)\n",
        "    subset='training'    # Specify 'training' for the training set\n",
        ")\n",
        "\n",
        "\n",
        "validation_datagen = ImageDataGenerator(\n",
        "    rescale=1./255,\n",
        "    validation_split=0.2  # here we use the same split of training set which is 20%\n",
        ")\n",
        "\n",
        "# Load and prepare validation data\n",
        "validation_data = validation_datagen.flow_from_directory(\n",
        "    train_dir,\n",
        "    target_size=(256,256),\n",
        "    batch_size=32,\n",
        "    class_mode='binary',\n",
        "    subset='validation'   # Specify 'validation' for the validation set\n",
        ")"
      ],
      "metadata": {
        "colab": {
          "base_uri": "https://localhost:8080/"
        },
        "id": "uMFy20Os2JHq",
        "outputId": "b2ec80f3-4c65-44fb-d689-40a871219f03"
      },
      "execution_count": 18,
      "outputs": [
        {
          "output_type": "stream",
          "name": "stdout",
          "text": [
            "Found 1100 images belonging to 3 classes.\n",
            "Found 274 images belonging to 3 classes.\n"
          ]
        }
      ]
    },
    {
      "cell_type": "code",
      "source": [
        "from tensorflow import keras\n",
        "from keras import Sequential\n",
        "from keras.layers import Dense,Conv2D,MaxPooling2D,Flatten,BatchNormalization,UpSampling2D, Dropout"
      ],
      "metadata": {
        "id": "ehiglm1R2pH2"
      },
      "execution_count": 19,
      "outputs": []
    },
    {
      "cell_type": "code",
      "execution_count": 20,
      "metadata": {
        "id": "6liLEEzLWNB5"
      },
      "outputs": [],
      "source": [
        "# create CNN model\n",
        "\n",
        "model = Sequential()\n",
        "\n",
        "model.add(Conv2D(32,kernel_size=(3,3),padding='valid',activation='relu',input_shape=(256,256,3)))  # 32 filters\n",
        "#model.add(BatchNormalization())  # added to reduce overfitting\n",
        "model.add(MaxPooling2D(pool_size=(2,2),strides=2,padding='valid'))\n",
        "\n",
        "model.add(Conv2D(64,kernel_size=(3,3),padding='valid',activation='relu'))\n",
        "#model.add(BatchNormalization())  # added to reduce overfitting\n",
        "model.add(MaxPooling2D(pool_size=(2,2),strides=2,padding='valid'))\n",
        "\n",
        "model.add(Conv2D(128,kernel_size=(3,3),padding='valid',activation='relu'))\n",
        "#model.add(BatchNormalization())  # added to reduce overfitting\n",
        "model.add(MaxPooling2D(pool_size=(2,2),strides=2,padding='valid'))\n",
        "\n",
        "model.add(Flatten())\n",
        "\n",
        "model.add(Dense(128,activation='relu')) #feature reduction\n",
        "#model.add(Dropout(0.1))  # added to reduce overfitting\n",
        "model.add(Dense(64,activation='relu'))\n",
        "#model.add(Dropout(0.1))  # added to reduce overfitting\n",
        "model.add(Dense(1,activation='sigmoid')) #output layer"
      ]
    },
    {
      "cell_type": "code",
      "source": [
        "from keras.optimizers import Adam\n",
        "model.compile(optimizer=Adam(learning_rate=0.001),loss='binary_crossentropy',metrics=['accuracy']) #binary_crossentropy - binary classification"
      ],
      "metadata": {
        "id": "mYoZH79W29Vr"
      },
      "execution_count": 21,
      "outputs": []
    },
    {
      "cell_type": "code",
      "source": [
        "history = model.fit(train_data, epochs=30, validation_data=validation_data)"
      ],
      "metadata": {
        "colab": {
          "base_uri": "https://localhost:8080/"
        },
        "id": "9cClBq2b3Asz",
        "outputId": "e85f7ff2-daac-4b5c-b7a7-ecd87b78a0a5"
      },
      "execution_count": 22,
      "outputs": [
        {
          "output_type": "stream",
          "name": "stdout",
          "text": [
            "Epoch 1/30\n",
            "35/35 [==============================] - 175s 5s/step - loss: -240599.0469 - accuracy: 0.4427 - val_loss: -1902604.5000 - val_accuracy: 0.4416\n",
            "Epoch 2/30\n",
            "35/35 [==============================] - 168s 5s/step - loss: -58462400.0000 - accuracy: 0.4427 - val_loss: -250830576.0000 - val_accuracy: 0.4416\n",
            "Epoch 3/30\n",
            "35/35 [==============================] - 171s 5s/step - loss: -1905417728.0000 - accuracy: 0.4427 - val_loss: -5775589376.0000 - val_accuracy: 0.4416\n",
            "Epoch 4/30\n",
            "35/35 [==============================] - 167s 5s/step - loss: -22018064384.0000 - accuracy: 0.4427 - val_loss: -54769410048.0000 - val_accuracy: 0.4416\n",
            "Epoch 5/30\n",
            "35/35 [==============================] - 167s 5s/step - loss: -153701105664.0000 - accuracy: 0.4427 - val_loss: -313316671488.0000 - val_accuracy: 0.4416\n",
            "Epoch 6/30\n",
            "35/35 [==============================] - 162s 5s/step - loss: -716008325120.0000 - accuracy: 0.4427 - val_loss: -1278722965504.0000 - val_accuracy: 0.4416\n",
            "Epoch 7/30\n",
            "35/35 [==============================] - 168s 5s/step - loss: -2526605475840.0000 - accuracy: 0.4427 - val_loss: -4106210246656.0000 - val_accuracy: 0.4416\n",
            "Epoch 8/30\n",
            "35/35 [==============================] - 165s 5s/step - loss: -7184948658176.0000 - accuracy: 0.4427 - val_loss: -11037599334400.0000 - val_accuracy: 0.4416\n",
            "Epoch 9/30\n",
            "35/35 [==============================] - 163s 5s/step - loss: -18155770478592.0000 - accuracy: 0.4427 - val_loss: -26106346340352.0000 - val_accuracy: 0.4416\n",
            "Epoch 10/30\n",
            "35/35 [==============================] - 166s 5s/step - loss: -40575000641536.0000 - accuracy: 0.4427 - val_loss: -55873799979008.0000 - val_accuracy: 0.4416\n",
            "Epoch 11/30\n",
            "35/35 [==============================] - 172s 5s/step - loss: -82682700627968.0000 - accuracy: 0.4427 - val_loss: -109840064053248.0000 - val_accuracy: 0.4416\n",
            "Epoch 12/30\n",
            "35/35 [==============================] - 166s 5s/step - loss: -155109874991104.0000 - accuracy: 0.4427 - val_loss: -200747778048000.0000 - val_accuracy: 0.4416\n",
            "Epoch 13/30\n",
            "35/35 [==============================] - 172s 5s/step - loss: -276636024963072.0000 - accuracy: 0.4427 - val_loss: -349014813835264.0000 - val_accuracy: 0.4416\n",
            "Epoch 14/30\n",
            "35/35 [==============================] - 165s 5s/step - loss: -466014621925376.0000 - accuracy: 0.4427 - val_loss: -574278734970880.0000 - val_accuracy: 0.4416\n",
            "Epoch 15/30\n",
            "35/35 [==============================] - 172s 5s/step - loss: -750655526404096.0000 - accuracy: 0.4427 - val_loss: -911733174566912.0000 - val_accuracy: 0.4416\n",
            "Epoch 16/30\n",
            "35/35 [==============================] - 166s 5s/step - loss: -1178722099003392.0000 - accuracy: 0.4427 - val_loss: -1390897912610816.0000 - val_accuracy: 0.4416\n",
            "Epoch 17/30\n",
            "35/35 [==============================] - 163s 5s/step - loss: -1766176451461120.0000 - accuracy: 0.4427 - val_loss: -2074235530903552.0000 - val_accuracy: 0.4416\n",
            "Epoch 18/30\n",
            "35/35 [==============================] - 162s 5s/step - loss: -2574708071464960.0000 - accuracy: 0.4427 - val_loss: -2992811595005952.0000 - val_accuracy: 0.4416\n",
            "Epoch 19/30\n",
            "35/35 [==============================] - 165s 5s/step - loss: -3691219716669440.0000 - accuracy: 0.4427 - val_loss: -4243718672482304.0000 - val_accuracy: 0.4416\n",
            "Epoch 20/30\n",
            "35/35 [==============================] - 171s 5s/step - loss: -5162916298883072.0000 - accuracy: 0.4427 - val_loss: -5847335980498944.0000 - val_accuracy: 0.4416\n",
            "Epoch 21/30\n",
            "35/35 [==============================] - 165s 5s/step - loss: -7039984510959616.0000 - accuracy: 0.4427 - val_loss: -7961600203948032.0000 - val_accuracy: 0.4416\n",
            "Epoch 22/30\n",
            "35/35 [==============================] - 161s 5s/step - loss: -9523104283885568.0000 - accuracy: 0.4427 - val_loss: -10603598870216704.0000 - val_accuracy: 0.4416\n",
            "Epoch 23/30\n",
            "35/35 [==============================] - 165s 5s/step - loss: -12597059622273024.0000 - accuracy: 0.4427 - val_loss: -13931867812134912.0000 - val_accuracy: 0.4416\n",
            "Epoch 24/30\n",
            "35/35 [==============================] - 164s 5s/step - loss: -16435727445262336.0000 - accuracy: 0.4427 - val_loss: -18145085774364672.0000 - val_accuracy: 0.4416\n",
            "Epoch 25/30\n",
            "35/35 [==============================] - 163s 5s/step - loss: -21324373038202880.0000 - accuracy: 0.4427 - val_loss: -23218616824496128.0000 - val_accuracy: 0.4416\n",
            "Epoch 26/30\n",
            "35/35 [==============================] - 163s 5s/step - loss: -27149864815034368.0000 - accuracy: 0.4427 - val_loss: -29460061151559680.0000 - val_accuracy: 0.4416\n",
            "Epoch 27/30\n",
            "35/35 [==============================] - 175s 5s/step - loss: -34153234192924672.0000 - accuracy: 0.4427 - val_loss: -37060267774836736.0000 - val_accuracy: 0.4416\n",
            "Epoch 28/30\n",
            "35/35 [==============================] - 171s 5s/step - loss: -42666767759179776.0000 - accuracy: 0.4427 - val_loss: -45968717141508096.0000 - val_accuracy: 0.4416\n",
            "Epoch 29/30\n",
            "35/35 [==============================] - 164s 5s/step - loss: -52808426790584320.0000 - accuracy: 0.4427 - val_loss: -56543983186214912.0000 - val_accuracy: 0.4416\n",
            "Epoch 30/30\n",
            "35/35 [==============================] - 164s 5s/step - loss: -64690123102486528.0000 - accuracy: 0.4427 - val_loss: -69199456511197184.0000 - val_accuracy: 0.4416\n"
          ]
        }
      ]
    },
    {
      "cell_type": "code",
      "source": [
        "import matplotlib.pyplot as plt\n",
        "\n",
        "plt.plot(history.history['accuracy'],color='red',label='train')\n",
        "plt.plot(history.history['val_accuracy'],color='blue',label='validation')\n",
        "plt.legend()\n",
        "plt.show()"
      ],
      "metadata": {
        "colab": {
          "base_uri": "https://localhost:8080/",
          "height": 430
        },
        "id": "wy5nz4rlPsvg",
        "outputId": "5be0b9b8-df27-4b55-e9f5-8aaa88ab1c53"
      },
      "execution_count": 23,
      "outputs": [
        {
          "output_type": "display_data",
          "data": {
            "text/plain": [
              "<Figure size 640x480 with 1 Axes>"
            ],
            "image/png": "[encoded data removed]"
          },
          "metadata": {}
        }
      ]
    },
    {
      "cell_type": "code",
      "source": [],
      "metadata": {
        "id": "0FTI1zM_Pz_A"
      },
      "execution_count": null,
      "outputs": []
    },
    {
      "cell_type": "code",
      "execution_count": 24,
      "metadata": {
        "id": "FYZ0VJp4esXl",
        "colab": {
          "base_uri": "https://localhost:8080/",
          "height": 445
        },
        "outputId": "21362335-0219-4b3d-9a30-e0ea6d2e8b4c"
      },
      "outputs": [
        {
          "output_type": "display_data",
          "data": {
            "text/plain": [
              "<Figure size 640x480 with 1 Axes>"
            ],
            "image/png": "[encoded data removed]"
          },
          "metadata": {}
        }
      ],
      "source": [
        "plt.plot(history.history['loss'],color='red',label='train')\n",
        "plt.plot(history.history['val_loss'],color='blue',label='validation')\n",
        "plt.legend()\n",
        "plt.show()"
      ]
    },
    {
      "cell_type": "code",
      "source": [
        "test_datagen = ImageDataGenerator(rescale=1./255)\n",
        "test_data = test_datagen.flow_from_directory(\n",
        "    test_dir,\n",
        "    target_size=(256,256),\n",
        "    batch_size=32,\n",
        "    class_mode='binary'\n",
        ")"
      ],
      "metadata": {
        "colab": {
          "base_uri": "https://localhost:8080/"
        },
        "id": "op0gXQ73P5X-",
        "outputId": "57026f71-bfa0-43c8-f032-ea810a9889fc"
      },
      "execution_count": 25,
      "outputs": [
        {
          "output_type": "stream",
          "name": "stdout",
          "text": [
            "Found 100 images belonging to 3 classes.\n"
          ]
        }
      ]
    },
    {
      "cell_type": "code",
      "source": [
        "#predict the test data\n",
        "predictions = model.predict(test_data)\n",
        "print(predictions)"
      ],
      "metadata": {
        "colab": {
          "base_uri": "https://localhost:8080/"
        },
        "id": "01fzekDNSoAr",
        "outputId": "fcaa8bda-9130-48b7-a303-ce87d245b427"
      },
      "execution_count": 26,
      "outputs": [
        {
          "output_type": "stream",
          "name": "stdout",
          "text": [
            "4/4 [==============================] - 4s 744ms/step\n",
            "[[1.]\n",
            " [1.]\n",
            " [1.]\n",
            " [1.]\n",
            " [1.]\n",
            " [1.]\n",
            " [1.]\n",
            " [1.]\n",
            " [1.]\n",
            " [1.]\n",
            " [1.]\n",
            " [1.]\n",
            " [1.]\n",
            " [1.]\n",
            " [1.]\n",
            " [1.]\n",
            " [1.]\n",
            " [1.]\n",
            " [1.]\n",
            " [1.]\n",
            " [1.]\n",
            " [1.]\n",
            " [1.]\n",
            " [1.]\n",
            " [1.]\n",
            " [1.]\n",
            " [1.]\n",
            " [1.]\n",
            " [1.]\n",
            " [1.]\n",
            " [1.]\n",
            " [1.]\n",
            " [1.]\n",
            " [1.]\n",
            " [1.]\n",
            " [1.]\n",
            " [1.]\n",
            " [1.]\n",
            " [1.]\n",
            " [1.]\n",
            " [1.]\n",
            " [1.]\n",
            " [1.]\n",
            " [1.]\n",
            " [1.]\n",
            " [1.]\n",
            " [1.]\n",
            " [1.]\n",
            " [1.]\n",
            " [1.]\n",
            " [1.]\n",
            " [1.]\n",
            " [1.]\n",
            " [1.]\n",
            " [1.]\n",
            " [1.]\n",
            " [1.]\n",
            " [1.]\n",
            " [1.]\n",
            " [1.]\n",
            " [1.]\n",
            " [1.]\n",
            " [1.]\n",
            " [1.]\n",
            " [1.]\n",
            " [1.]\n",
            " [1.]\n",
            " [1.]\n",
            " [1.]\n",
            " [1.]\n",
            " [1.]\n",
            " [1.]\n",
            " [1.]\n",
            " [1.]\n",
            " [1.]\n",
            " [1.]\n",
            " [1.]\n",
            " [1.]\n",
            " [1.]\n",
            " [1.]\n",
            " [1.]\n",
            " [1.]\n",
            " [1.]\n",
            " [1.]\n",
            " [1.]\n",
            " [1.]\n",
            " [1.]\n",
            " [1.]\n",
            " [1.]\n",
            " [1.]\n",
            " [1.]\n",
            " [1.]\n",
            " [1.]\n",
            " [1.]\n",
            " [1.]\n",
            " [1.]\n",
            " [1.]\n",
            " [1.]\n",
            " [1.]\n",
            " [1.]]\n"
          ]
        }
      ]
    },
    {
      "cell_type": "code",
      "source": [
        "len(predictions)"
      ],
      "metadata": {
        "colab": {
          "base_uri": "https://localhost:8080/"
        },
        "id": "6WS98SODT5le",
        "outputId": "336a5e3f-d9ae-4e68-8e7b-946f930a0c5e"
      },
      "execution_count": 27,
      "outputs": [
        {
          "output_type": "execute_result",
          "data": {
            "text/plain": [
              "100"
            ]
          },
          "metadata": {},
          "execution_count": 27
        }
      ]
    },
    {
      "cell_type": "code",
      "source": [
        "from sklearn.metrics import confusion_matrix, classification_report\n",
        "\n",
        "# Assuming you have ground truth labels (true_labels) and predicted labels (predictions)\n",
        "true_labels = test_data.classes\n",
        "predicted_labels = (predictions > 0.5).astype(int) # Adjust the threshold as needed\n",
        "\n",
        "# Calculate confusion matrix\n",
        "cm = confusion_matrix(true_labels, predicted_labels)\n",
        "\n",
        "\n",
        "# Print confusion matrix\n",
        "print(\"Confusion Matrix:\")\n",
        "print(cm)\n",
        "\n",
        "# Print classification report\n",
        "print(\"Classification Report:\")\n",
        "print(classification_report(true_labels, predicted_labels))"
      ],
      "metadata": {
        "colab": {
          "base_uri": "https://localhost:8080/"
        },
        "id": "fhJCmqTKUBdp",
        "outputId": "df8212e5-482c-4ea1-a3bd-b648f966c4e1"
      },
      "execution_count": 28,
      "outputs": [
        {
          "output_type": "stream",
          "name": "stdout",
          "text": [
            "Confusion Matrix:\n",
            "[[50  0]\n",
            " [50  0]]\n",
            "Classification Report:\n",
            "              precision    recall  f1-score   support\n",
            "\n",
            "           1       0.50      1.00      0.67        50\n",
            "           2       0.00      0.00      0.00        50\n",
            "\n",
            "    accuracy                           0.50       100\n",
            "   macro avg       0.25      0.50      0.33       100\n",
            "weighted avg       0.25      0.50      0.33       100\n",
            "\n"
          ]
        },
        {
          "output_type": "stream",
          "name": "stderr",
          "text": [
            "/usr/local/lib/python3.10/dist-packages/sklearn/metrics/_classification.py:1344: UndefinedMetricWarning: Precision and F-score are ill-defined and being set to 0.0 in labels with no predicted samples. Use `zero_division` parameter to control this behavior.\n",
            "  _warn_prf(average, modifier, msg_start, len(result))\n",
            "/usr/local/lib/python3.10/dist-packages/sklearn/metrics/_classification.py:1344: UndefinedMetricWarning: Precision and F-score are ill-defined and being set to 0.0 in labels with no predicted samples. Use `zero_division` parameter to control this behavior.\n",
            "  _warn_prf(average, modifier, msg_start, len(result))\n",
            "/usr/local/lib/python3.10/dist-packages/sklearn/metrics/_classification.py:1344: UndefinedMetricWarning: Precision and F-score are ill-defined and being set to 0.0 in labels with no predicted samples. Use `zero_division` parameter to control this behavior.\n",
            "  _warn_prf(average, modifier, msg_start, len(result))\n"
          ]
        }
      ]
    }
  ]
}